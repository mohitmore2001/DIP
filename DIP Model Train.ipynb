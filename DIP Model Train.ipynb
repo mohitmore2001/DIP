{
 "cells": [
  {
   "cell_type": "code",
   "execution_count": 3,
   "id": "72d31a49",
   "metadata": {},
   "outputs": [],
   "source": [
    "from tensorflow.keras.optimizers import RMSprop\n",
    "from keras.preprocessing.image import ImageDataGenerator\n",
    "import cv2\n",
    "from keras.models import Sequential\n",
    "from keras.layers import Conv2D, Input, ZeroPadding2D, BatchNormalization, Activation, MaxPooling2D, Flatten, Dense,Dropout\n",
    "from keras.models import Model, load_model\n",
    "from keras.callbacks import TensorBoard, ModelCheckpoint\n",
    "from sklearn.model_selection import train_test_split\n",
    "from sklearn.metrics import f1_score\n",
    "from sklearn.utils import shuffle\n",
    "import imutils\n",
    "import numpy as np"
   ]
  },
  {
   "cell_type": "code",
   "execution_count": 4,
   "id": "7c462ad7",
   "metadata": {},
   "outputs": [],
   "source": [
    "model = Sequential([\n",
    "    Conv2D(100, (3,3), activation='relu', input_shape=(150, 150, 3)),\n",
    "    MaxPooling2D(2,2),\n",
    "    \n",
    "    Conv2D(100, (3,3), activation='relu'),\n",
    "    MaxPooling2D(2,2),\n",
    "    \n",
    "    Flatten(),\n",
    "    Dropout(0.5),\n",
    "    Dense(50, activation='relu'),\n",
    "    Dense(2, activation='softmax')\n",
    "])\n",
    "model.compile(optimizer='adam', loss='binary_crossentropy', metrics=['acc'])"
   ]
  },
  {
   "cell_type": "code",
   "execution_count": 12,
   "id": "02a95a7e",
   "metadata": {},
   "outputs": [
    {
     "name": "stdout",
     "output_type": "stream",
     "text": [
      "Found 1315 images belonging to 2 classes.\n",
      "Found 194 images belonging to 2 classes.\n"
     ]
    }
   ],
   "source": [
    "TRAINING_DIR = \"C:/Users/DELL/Documents/Dataset/train\"\n",
    "train_datagen = ImageDataGenerator(rescale=1.0/255,\n",
    "                                   rotation_range=40,\n",
    "                                   width_shift_range=0.2,\n",
    "                                   height_shift_range=0.2,\n",
    "                                   shear_range=0.2,\n",
    "                                   zoom_range=0.2,\n",
    "                                   horizontal_flip=True,\n",
    "                                   fill_mode='nearest')\n",
    "train_generator = train_datagen.flow_from_directory(TRAINING_DIR, \n",
    "                                                    batch_size=10, \n",
    "                                                    target_size=(150, 150))\n",
    "VALIDATION_DIR = \"C:/Users/DELL/Documents/Dataset/test\"\n",
    "validation_datagen = ImageDataGenerator(rescale=1.0/255)\n",
    "validation_generator = validation_datagen.flow_from_directory(VALIDATION_DIR, \n",
    "                                                         batch_size=10, \n",
    "                                                         target_size=(150, 150))"
   ]
  },
  {
   "cell_type": "code",
   "execution_count": 13,
   "id": "595f8f37",
   "metadata": {},
   "outputs": [],
   "source": [
    "checkpoint = ModelCheckpoint('model2-{epoch:03d}.model',monitor='val_loss',verbose=0,save_best_only=True,mode='auto')"
   ]
  },
  {
   "cell_type": "code",
   "execution_count": 14,
   "id": "68fdda04",
   "metadata": {
    "scrolled": true
   },
   "outputs": [
    {
     "name": "stderr",
     "output_type": "stream",
     "text": [
      "<ipython-input-14-6272b23e5a0b>:1: UserWarning: `Model.fit_generator` is deprecated and will be removed in a future version. Please use `Model.fit`, which supports generators.\n",
      "  history = model.fit_generator(train_generator,\n"
     ]
    },
    {
     "name": "stdout",
     "output_type": "stream",
     "text": [
      "Epoch 1/10\n",
      "132/132 [==============================] - ETA: 0s - loss: 0.5275 - acc: 0.7627INFO:tensorflow:Assets written to: model2-001.model\\assets\n",
      "132/132 [==============================] - 103s 777ms/step - loss: 0.5275 - acc: 0.7627 - val_loss: 0.2231 - val_acc: 0.9227\n",
      "Epoch 2/10\n",
      "132/132 [==============================] - ETA: 0s - loss: 0.3141 - acc: 0.8738INFO:tensorflow:Assets written to: model2-002.model\\assets\n",
      "132/132 [==============================] - 104s 789ms/step - loss: 0.3141 - acc: 0.8738 - val_loss: 0.2099 - val_acc: 0.9124\n",
      "Epoch 3/10\n",
      "132/132 [==============================] - ETA: 0s - loss: 0.2849 - acc: 0.8844INFO:tensorflow:Assets written to: model2-003.model\\assets\n",
      "132/132 [==============================] - 91s 687ms/step - loss: 0.2849 - acc: 0.8844 - val_loss: 0.1207 - val_acc: 0.9691\n",
      "Epoch 4/10\n",
      "132/132 [==============================] - ETA: 0s - loss: 0.2357 - acc: 0.9148INFO:tensorflow:Assets written to: model2-004.model\\assets\n",
      "132/132 [==============================] - 75s 567ms/step - loss: 0.2357 - acc: 0.9148 - val_loss: 0.0886 - val_acc: 0.9794\n",
      "Epoch 5/10\n",
      "132/132 [==============================] - 108s 818ms/step - loss: 0.2390 - acc: 0.8973 - val_loss: 0.0988 - val_acc: 0.9536\n",
      "Epoch 6/10\n",
      "132/132 [==============================] - ETA: 0s - loss: 0.2338 - acc: 0.9141INFO:tensorflow:Assets written to: model2-006.model\\assets\n",
      "132/132 [==============================] - 105s 796ms/step - loss: 0.2338 - acc: 0.9141 - val_loss: 0.0782 - val_acc: 0.9794\n",
      "Epoch 7/10\n",
      "132/132 [==============================] - 122s 921ms/step - loss: 0.1944 - acc: 0.9308 - val_loss: 0.0998 - val_acc: 0.9639\n",
      "Epoch 8/10\n",
      "132/132 [==============================] - ETA: 0s - loss: 0.1942 - acc: 0.9247INFO:tensorflow:Assets written to: model2-008.model\\assets\n",
      "132/132 [==============================] - 150s 1s/step - loss: 0.1942 - acc: 0.9247 - val_loss: 0.0436 - val_acc: 0.9897\n",
      "Epoch 9/10\n",
      "132/132 [==============================] - 141s 1s/step - loss: 0.2171 - acc: 0.9110 - val_loss: 0.3420 - val_acc: 0.8608\n",
      "Epoch 10/10\n",
      "132/132 [==============================] - 153s 1s/step - loss: 0.1878 - acc: 0.9171 - val_loss: 0.0543 - val_acc: 0.9794\n"
     ]
    }
   ],
   "source": [
    "history = model.fit_generator(train_generator,\n",
    "                              epochs=10,\n",
    "                              validation_data=validation_generator,\n",
    "                              callbacks=[checkpoint])"
   ]
  },
  {
   "cell_type": "code",
   "execution_count": null,
   "id": "5cd30730",
   "metadata": {},
   "outputs": [],
   "source": []
  }
 ],
 "metadata": {
  "kernelspec": {
   "display_name": "Python 3",
   "language": "python",
   "name": "python3"
  },
  "language_info": {
   "codemirror_mode": {
    "name": "ipython",
    "version": 3
   },
   "file_extension": ".py",
   "mimetype": "text/x-python",
   "name": "python",
   "nbconvert_exporter": "python",
   "pygments_lexer": "ipython3",
   "version": "3.8.8"
  }
 },
 "nbformat": 4,
 "nbformat_minor": 5
}
